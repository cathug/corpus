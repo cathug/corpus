{
 "cells": [
  {
   "cell_type": "code",
   "execution_count": 1,
   "metadata": {},
   "outputs": [],
   "source": [
    "import numpy as np\n",
    "import pandas as pd\n",
    "import json\n",
    "import re"
   ]
  },
  {
   "cell_type": "code",
   "execution_count": 2,
   "metadata": {},
   "outputs": [],
   "source": [
    "wiki_df = pd.read_json('/home/lun/Downloads/wiki_00.bz2',lines=True)\n",
    "# wiki_df = pd.read_json('/home/csrp/csrp/wiki dump/wikiextractor-master/text/AA/wiki_00.bz2', lines=True)"
   ]
  },
  {
   "cell_type": "code",
   "execution_count": 3,
   "metadata": {},
   "outputs": [
    {
     "data": {
      "text/html": [
       "<div>\n",
       "<style scoped>\n",
       "    .dataframe tbody tr th:only-of-type {\n",
       "        vertical-align: middle;\n",
       "    }\n",
       "\n",
       "    .dataframe tbody tr th {\n",
       "        vertical-align: top;\n",
       "    }\n",
       "\n",
       "    .dataframe thead th {\n",
       "        text-align: right;\n",
       "    }\n",
       "</style>\n",
       "<table border=\"1\" class=\"dataframe\">\n",
       "  <thead>\n",
       "    <tr style=\"text-align: right;\">\n",
       "      <th></th>\n",
       "      <th>id</th>\n",
       "      <th>text</th>\n",
       "      <th>title</th>\n",
       "      <th>url</th>\n",
       "    </tr>\n",
       "  </thead>\n",
       "  <tbody>\n",
       "    <tr>\n",
       "      <th>0</th>\n",
       "      <td>2</td>\n",
       "      <td>香港\\n\\n香港（，英文：Hong Kong 又 Hongkong），官方叫（英文：Hong...</td>\n",
       "      <td>香港</td>\n",
       "      <td>https://zh-yue.wikipedia.org/wiki?curid=2</td>\n",
       "    </tr>\n",
       "    <tr>\n",
       "      <th>1</th>\n",
       "      <td>3</td>\n",
       "      <td>愛因斯坦\\n\\n愛因斯坦（，全名音譯：阿爾拔·愛因斯坦，）係一位理論物理學家。佢最出名嘅係發...</td>\n",
       "      <td>愛因斯坦</td>\n",
       "      <td>https://zh-yue.wikipedia.org/wiki?curid=3</td>\n",
       "    </tr>\n",
       "    <tr>\n",
       "      <th>2</th>\n",
       "      <td>4</td>\n",
       "      <td>粵語\\n\\n粵語（），又叫廣東話（）、廣州／廣府話（）、白話（），係廣東（簡稱「粵」）加埋部...</td>\n",
       "      <td>粵語</td>\n",
       "      <td>https://zh-yue.wikipedia.org/wiki?curid=4</td>\n",
       "    </tr>\n",
       "    <tr>\n",
       "      <th>3</th>\n",
       "      <td>12</td>\n",
       "      <td>唐文\\n\\n唐文（），亦稱中文（）、國文（）、華文（）、漢文（），文言可以單稱文（），指以唐...</td>\n",
       "      <td>唐文</td>\n",
       "      <td>https://zh-yue.wikipedia.org/wiki?curid=12</td>\n",
       "    </tr>\n",
       "    <tr>\n",
       "      <th>4</th>\n",
       "      <td>16</td>\n",
       "      <td>大嶼山\\n\\n大嶼山（「嶼」字有地名變讀，讀「如」；；，原爲，南大澳之葡音），有時亦叫大嶼，...</td>\n",
       "      <td>大嶼山</td>\n",
       "      <td>https://zh-yue.wikipedia.org/wiki?curid=16</td>\n",
       "    </tr>\n",
       "  </tbody>\n",
       "</table>\n",
       "</div>"
      ],
      "text/plain": [
       "   id                                               text title  \\\n",
       "0   2  香港\\n\\n香港（，英文：Hong Kong 又 Hongkong），官方叫（英文：Hong...    香港   \n",
       "1   3  愛因斯坦\\n\\n愛因斯坦（，全名音譯：阿爾拔·愛因斯坦，）係一位理論物理學家。佢最出名嘅係發...  愛因斯坦   \n",
       "2   4  粵語\\n\\n粵語（），又叫廣東話（）、廣州／廣府話（）、白話（），係廣東（簡稱「粵」）加埋部...    粵語   \n",
       "3  12  唐文\\n\\n唐文（），亦稱中文（）、國文（）、華文（）、漢文（），文言可以單稱文（），指以唐...    唐文   \n",
       "4  16  大嶼山\\n\\n大嶼山（「嶼」字有地名變讀，讀「如」；；，原爲，南大澳之葡音），有時亦叫大嶼，...   大嶼山   \n",
       "\n",
       "                                          url  \n",
       "0   https://zh-yue.wikipedia.org/wiki?curid=2  \n",
       "1   https://zh-yue.wikipedia.org/wiki?curid=3  \n",
       "2   https://zh-yue.wikipedia.org/wiki?curid=4  \n",
       "3  https://zh-yue.wikipedia.org/wiki?curid=12  \n",
       "4  https://zh-yue.wikipedia.org/wiki?curid=16  "
      ]
     },
     "execution_count": 3,
     "metadata": {},
     "output_type": "execute_result"
    }
   ],
   "source": [
    "wiki_df.head()"
   ]
  },
  {
   "cell_type": "code",
   "execution_count": 4,
   "metadata": {},
   "outputs": [],
   "source": [
    "# wiki_df['text'].iloc[2]"
   ]
  },
  {
   "cell_type": "code",
   "execution_count": 5,
   "metadata": {},
   "outputs": [],
   "source": [
    "wiki_df['text'] = wiki_df['text'].str.replace(\n",
    "    r\"<ref( .+?){0,1}>.+?</ref>|\\n|（）\", \"\", \n",
    "    flags=re.MULTILINE|re.DOTALL)"
   ]
  },
  {
   "cell_type": "code",
   "execution_count": 6,
   "metadata": {},
   "outputs": [],
   "source": [
    "wiki_df['text'] = wiki_df['text'].str.replace(\n",
    "    r\"<[a-z]+( .+?){0,1}>(.+?){0,1}</[a-z]+>\", \"\", \n",
    "    flags=re.MULTILINE|re.DOTALL)"
   ]
  },
  {
   "cell_type": "code",
   "execution_count": 7,
   "metadata": {},
   "outputs": [],
   "source": [
    "wiki_df['text'] = wiki_df['text'].str.replace(\n",
    "    \"'\", \"^\", \n",
    "    flags=re.MULTILINE|re.DOTALL)"
   ]
  },
  {
   "cell_type": "code",
   "execution_count": 8,
   "metadata": {},
   "outputs": [],
   "source": [
    "# remove titles from text\n",
    "wiki_df['text'] = wiki_df.apply(lambda row: row['text'][len(row['title']):] \n",
    "    if row['text'][:len(row['title'])] == row['title'] else row['text'], axis=1)"
   ]
  },
  {
   "cell_type": "code",
   "execution_count": 9,
   "metadata": {},
   "outputs": [
    {
     "data": {
      "text/html": [
       "<div>\n",
       "<style scoped>\n",
       "    .dataframe tbody tr th:only-of-type {\n",
       "        vertical-align: middle;\n",
       "    }\n",
       "\n",
       "    .dataframe tbody tr th {\n",
       "        vertical-align: top;\n",
       "    }\n",
       "\n",
       "    .dataframe thead th {\n",
       "        text-align: right;\n",
       "    }\n",
       "</style>\n",
       "<table border=\"1\" class=\"dataframe\">\n",
       "  <thead>\n",
       "    <tr style=\"text-align: right;\">\n",
       "      <th></th>\n",
       "      <th>id</th>\n",
       "      <th>text</th>\n",
       "      <th>title</th>\n",
       "      <th>url</th>\n",
       "    </tr>\n",
       "  </thead>\n",
       "  <tbody>\n",
       "    <tr>\n",
       "      <th>0</th>\n",
       "      <td>2</td>\n",
       "      <td>香港（，英文：Hong Kong 又 Hongkong），官方叫（英文：Hong Kong ...</td>\n",
       "      <td>香港</td>\n",
       "      <td>https://zh-yue.wikipedia.org/wiki?curid=2</td>\n",
       "    </tr>\n",
       "    <tr>\n",
       "      <th>1</th>\n",
       "      <td>3</td>\n",
       "      <td>愛因斯坦（，全名音譯：阿爾拔·愛因斯坦，）係一位理論物理學家。佢最出名嘅係發表咗相對論，另外...</td>\n",
       "      <td>愛因斯坦</td>\n",
       "      <td>https://zh-yue.wikipedia.org/wiki?curid=3</td>\n",
       "    </tr>\n",
       "    <tr>\n",
       "      <th>2</th>\n",
       "      <td>4</td>\n",
       "      <td>粵語，又叫廣東話、廣州／廣府話、白話，係廣東（簡稱「粵」）加埋部份廣西、海南、香港、澳門講嘅...</td>\n",
       "      <td>粵語</td>\n",
       "      <td>https://zh-yue.wikipedia.org/wiki?curid=4</td>\n",
       "    </tr>\n",
       "    <tr>\n",
       "      <th>3</th>\n",
       "      <td>12</td>\n",
       "      <td>唐文，亦稱中文、國文、華文、漢文，文言可以單稱文，指以唐話，寫唐字，係屬於漢藏語系嘅語言。唐...</td>\n",
       "      <td>唐文</td>\n",
       "      <td>https://zh-yue.wikipedia.org/wiki?curid=12</td>\n",
       "    </tr>\n",
       "    <tr>\n",
       "      <th>4</th>\n",
       "      <td>16</td>\n",
       "      <td>大嶼山（「嶼」字有地名變讀，讀「如」；；，原爲，南大澳之葡音），有時亦叫大嶼，係香港一島，係...</td>\n",
       "      <td>大嶼山</td>\n",
       "      <td>https://zh-yue.wikipedia.org/wiki?curid=16</td>\n",
       "    </tr>\n",
       "  </tbody>\n",
       "</table>\n",
       "</div>"
      ],
      "text/plain": [
       "   id                                               text title  \\\n",
       "0   2  香港（，英文：Hong Kong 又 Hongkong），官方叫（英文：Hong Kong ...    香港   \n",
       "1   3  愛因斯坦（，全名音譯：阿爾拔·愛因斯坦，）係一位理論物理學家。佢最出名嘅係發表咗相對論，另外...  愛因斯坦   \n",
       "2   4  粵語，又叫廣東話、廣州／廣府話、白話，係廣東（簡稱「粵」）加埋部份廣西、海南、香港、澳門講嘅...    粵語   \n",
       "3  12  唐文，亦稱中文、國文、華文、漢文，文言可以單稱文，指以唐話，寫唐字，係屬於漢藏語系嘅語言。唐...    唐文   \n",
       "4  16  大嶼山（「嶼」字有地名變讀，讀「如」；；，原爲，南大澳之葡音），有時亦叫大嶼，係香港一島，係...   大嶼山   \n",
       "\n",
       "                                          url  \n",
       "0   https://zh-yue.wikipedia.org/wiki?curid=2  \n",
       "1   https://zh-yue.wikipedia.org/wiki?curid=3  \n",
       "2   https://zh-yue.wikipedia.org/wiki?curid=4  \n",
       "3  https://zh-yue.wikipedia.org/wiki?curid=12  \n",
       "4  https://zh-yue.wikipedia.org/wiki?curid=16  "
      ]
     },
     "execution_count": 9,
     "metadata": {},
     "output_type": "execute_result"
    }
   ],
   "source": [
    "wiki_df.head()"
   ]
  },
  {
   "cell_type": "code",
   "execution_count": 10,
   "metadata": {},
   "outputs": [],
   "source": [
    "from hanziconv import HanziConv\n",
    "with open(\"wikioutput.txt\", 'w') as f:\n",
    "    for i, t in enumerate(wiki_df.text.tolist()):\n",
    "#         if i == 1:\n",
    "#             print(t)\n",
    "        f.write(HanziConv.toSimplified(t))\n"
   ]
  },
  {
   "cell_type": "code",
   "execution_count": 11,
   "metadata": {},
   "outputs": [
    {
     "data": {
      "text/plain": [
       "id                                               4320\n",
       "text                                                 \n",
       "title                                           1997年\n",
       "url      https://zh-yue.wikipedia.org/wiki?curid=4320\n",
       "Name: 308, dtype: object"
      ]
     },
     "execution_count": 11,
     "metadata": {},
     "output_type": "execute_result"
    }
   ],
   "source": [
    "wiki_df.iloc[308]"
   ]
  },
  {
   "cell_type": "code",
   "execution_count": 12,
   "metadata": {},
   "outputs": [
    {
     "data": {
      "text/html": [
       "<div>\n",
       "<style scoped>\n",
       "    .dataframe tbody tr th:only-of-type {\n",
       "        vertical-align: middle;\n",
       "    }\n",
       "\n",
       "    .dataframe tbody tr th {\n",
       "        vertical-align: top;\n",
       "    }\n",
       "\n",
       "    .dataframe thead th {\n",
       "        text-align: right;\n",
       "    }\n",
       "</style>\n",
       "<table border=\"1\" class=\"dataframe\">\n",
       "  <thead>\n",
       "    <tr style=\"text-align: right;\">\n",
       "      <th></th>\n",
       "      <th>id</th>\n",
       "      <th>text</th>\n",
       "      <th>title</th>\n",
       "      <th>url</th>\n",
       "    </tr>\n",
       "  </thead>\n",
       "  <tbody>\n",
       "    <tr>\n",
       "      <th>308</th>\n",
       "      <td>4320</td>\n",
       "      <td></td>\n",
       "      <td>1997年</td>\n",
       "      <td>https://zh-yue.wikipedia.org/wiki?curid=4320</td>\n",
       "    </tr>\n",
       "    <tr>\n",
       "      <th>2442</th>\n",
       "      <td>17681</td>\n",
       "      <td></td>\n",
       "      <td>1945年</td>\n",
       "      <td>https://zh-yue.wikipedia.org/wiki?curid=17681</td>\n",
       "    </tr>\n",
       "    <tr>\n",
       "      <th>2462</th>\n",
       "      <td>17787</td>\n",
       "      <td></td>\n",
       "      <td>1987年</td>\n",
       "      <td>https://zh-yue.wikipedia.org/wiki?curid=17787</td>\n",
       "    </tr>\n",
       "    <tr>\n",
       "      <th>2463</th>\n",
       "      <td>17815</td>\n",
       "      <td></td>\n",
       "      <td>1949年</td>\n",
       "      <td>https://zh-yue.wikipedia.org/wiki?curid=17815</td>\n",
       "    </tr>\n",
       "    <tr>\n",
       "      <th>2464</th>\n",
       "      <td>17816</td>\n",
       "      <td></td>\n",
       "      <td>1948年</td>\n",
       "      <td>https://zh-yue.wikipedia.org/wiki?curid=17816</td>\n",
       "    </tr>\n",
       "    <tr>\n",
       "      <th>2465</th>\n",
       "      <td>17847</td>\n",
       "      <td></td>\n",
       "      <td>1916年</td>\n",
       "      <td>https://zh-yue.wikipedia.org/wiki?curid=17847</td>\n",
       "    </tr>\n",
       "    <tr>\n",
       "      <th>2466</th>\n",
       "      <td>17851</td>\n",
       "      <td></td>\n",
       "      <td>1912年</td>\n",
       "      <td>https://zh-yue.wikipedia.org/wiki?curid=17851</td>\n",
       "    </tr>\n",
       "    <tr>\n",
       "      <th>2467</th>\n",
       "      <td>17852</td>\n",
       "      <td></td>\n",
       "      <td>1911年</td>\n",
       "      <td>https://zh-yue.wikipedia.org/wiki?curid=17852</td>\n",
       "    </tr>\n",
       "    <tr>\n",
       "      <th>2468</th>\n",
       "      <td>17853</td>\n",
       "      <td></td>\n",
       "      <td>1910年</td>\n",
       "      <td>https://zh-yue.wikipedia.org/wiki?curid=17853</td>\n",
       "    </tr>\n",
       "    <tr>\n",
       "      <th>11867</th>\n",
       "      <td>59633</td>\n",
       "      <td></td>\n",
       "      <td>Wikimedia Foundation 頭版</td>\n",
       "      <td>https://zh-yue.wikipedia.org/wiki?curid=59633</td>\n",
       "    </tr>\n",
       "    <tr>\n",
       "      <th>12009</th>\n",
       "      <td>62161</td>\n",
       "      <td></td>\n",
       "      <td>總覽一覽</td>\n",
       "      <td>https://zh-yue.wikipedia.org/wiki?curid=62161</td>\n",
       "    </tr>\n",
       "    <tr>\n",
       "      <th>14488</th>\n",
       "      <td>71970</td>\n",
       "      <td></td>\n",
       "      <td>生在蘇州、食在廣州、着在杭州、死在汀州</td>\n",
       "      <td>https://zh-yue.wikipedia.org/wiki?curid=71970</td>\n",
       "    </tr>\n",
       "    <tr>\n",
       "      <th>17129</th>\n",
       "      <td>77874</td>\n",
       "      <td></td>\n",
       "      <td>189年</td>\n",
       "      <td>https://zh-yue.wikipedia.org/wiki?curid=77874</td>\n",
       "    </tr>\n",
       "    <tr>\n",
       "      <th>44951</th>\n",
       "      <td>159140</td>\n",
       "      <td></td>\n",
       "      <td>2004年度音樂風雲榜頒獎盛典得獎名單</td>\n",
       "      <td>https://zh-yue.wikipedia.org/wiki?curid=159140</td>\n",
       "    </tr>\n",
       "  </tbody>\n",
       "</table>\n",
       "</div>"
      ],
      "text/plain": [
       "           id text                    title  \\\n",
       "308      4320                         1997年   \n",
       "2442    17681                         1945年   \n",
       "2462    17787                         1987年   \n",
       "2463    17815                         1949年   \n",
       "2464    17816                         1948年   \n",
       "2465    17847                         1916年   \n",
       "2466    17851                         1912年   \n",
       "2467    17852                         1911年   \n",
       "2468    17853                         1910年   \n",
       "11867   59633       Wikimedia Foundation 頭版   \n",
       "12009   62161                          總覽一覽   \n",
       "14488   71970           生在蘇州、食在廣州、着在杭州、死在汀州   \n",
       "17129   77874                          189年   \n",
       "44951  159140           2004年度音樂風雲榜頒獎盛典得獎名單   \n",
       "\n",
       "                                                  url  \n",
       "308      https://zh-yue.wikipedia.org/wiki?curid=4320  \n",
       "2442    https://zh-yue.wikipedia.org/wiki?curid=17681  \n",
       "2462    https://zh-yue.wikipedia.org/wiki?curid=17787  \n",
       "2463    https://zh-yue.wikipedia.org/wiki?curid=17815  \n",
       "2464    https://zh-yue.wikipedia.org/wiki?curid=17816  \n",
       "2465    https://zh-yue.wikipedia.org/wiki?curid=17847  \n",
       "2466    https://zh-yue.wikipedia.org/wiki?curid=17851  \n",
       "2467    https://zh-yue.wikipedia.org/wiki?curid=17852  \n",
       "2468    https://zh-yue.wikipedia.org/wiki?curid=17853  \n",
       "11867   https://zh-yue.wikipedia.org/wiki?curid=59633  \n",
       "12009   https://zh-yue.wikipedia.org/wiki?curid=62161  \n",
       "14488   https://zh-yue.wikipedia.org/wiki?curid=71970  \n",
       "17129   https://zh-yue.wikipedia.org/wiki?curid=77874  \n",
       "44951  https://zh-yue.wikipedia.org/wiki?curid=159140  "
      ]
     },
     "execution_count": 12,
     "metadata": {},
     "output_type": "execute_result"
    }
   ],
   "source": [
    "wiki_df[wiki_df.text.str.len() < 2]"
   ]
  },
  {
   "cell_type": "code",
   "execution_count": 13,
   "metadata": {},
   "outputs": [],
   "source": [
    "wiki_df['num_characters'] = wiki_df['text'].map(list).str.len()"
   ]
  },
  {
   "cell_type": "code",
   "execution_count": 14,
   "metadata": {},
   "outputs": [],
   "source": [
    "wiki_dump_livac = wiki_df[\n",
    "    (wiki_df.num_characters <= 1000) & (wiki_df.num_characters > 0)]"
   ]
  },
  {
   "cell_type": "code",
   "execution_count": 15,
   "metadata": {},
   "outputs": [],
   "source": [
    "wiki_dump_livac.reset_index(inplace=True, drop=True)"
   ]
  },
  {
   "cell_type": "code",
   "execution_count": 16,
   "metadata": {},
   "outputs": [
    {
     "data": {
      "text/plain": [
       "id                57097\n",
       "text              57097\n",
       "title             57097\n",
       "url               57097\n",
       "num_characters    57097\n",
       "dtype: int64"
      ]
     },
     "execution_count": 16,
     "metadata": {},
     "output_type": "execute_result"
    }
   ],
   "source": [
    "wiki_dump_livac.count()"
   ]
  },
  {
   "cell_type": "code",
   "execution_count": 17,
   "metadata": {},
   "outputs": [],
   "source": [
    "splitted = np.array_split(wiki_dump_livac, 100)"
   ]
  },
  {
   "cell_type": "code",
   "execution_count": null,
   "metadata": {},
   "outputs": [],
   "source": []
  },
  {
   "cell_type": "code",
   "execution_count": null,
   "metadata": {},
   "outputs": [],
   "source": [
    "s2 =  wiki_df[wiki_df.num_characters > 1000].copy()"
   ]
  },
  {
   "cell_type": "code",
   "execution_count": null,
   "metadata": {},
   "outputs": [],
   "source": [
    "s2.text = s2.text.str.split('。')"
   ]
  },
  {
   "cell_type": "code",
   "execution_count": null,
   "metadata": {},
   "outputs": [],
   "source": [
    "# separate sentences so that livac can parse\n",
    "def joinSentences(entry):\n",
    "    if len(entry) <= 0:\n",
    "        return None\n",
    "    \n",
    "    dup_entry = entry.copy()\n",
    "    dup_entry = list(filter(None, dup_entry)) # remove empty entries in list\n",
    "    \n",
    "    sentence_length_counter = 0 # counter\n",
    "    string = []\n",
    "    new_entry = []\n",
    "    \n",
    "    while len(dup_entry) > 0:\n",
    "        # we take into account extra full stops.  900 is enough\n",
    "        if (sentence_length_counter < 900 and \\\n",
    "            sentence_length_counter + len(dup_entry) < 900):\n",
    "            sentence_length_counter += len(dup_entry)\n",
    "            \n",
    "            # removes the first element in the list\n",
    "            sentence = dup_entry.pop(0)\n",
    "            string.append(sentence)\n",
    "#             print(len(dup_entry))\n",
    "            \n",
    "        else:\n",
    "            new_entry.append(\"。\".join(string) + \"。\")\n",
    "            \n",
    "            # clear list and reset counter\n",
    "            string.clear()\n",
    "            sentence_length_counter = 0\n",
    "            \n",
    "        if (len(dup_entry)) <= 0:\n",
    "            string.append(sentence)\n",
    "            new_entry.append(\"。\".join(string) + \"。\")\n",
    "    return new_entry  "
   ]
  },
  {
   "cell_type": "code",
   "execution_count": null,
   "metadata": {},
   "outputs": [],
   "source": [
    "s2['text'] = s2['text'].apply(joinSentences)"
   ]
  },
  {
   "cell_type": "code",
   "execution_count": null,
   "metadata": {
    "scrolled": false
   },
   "outputs": [],
   "source": [
    "s2.iloc[1]['text'][-3]"
   ]
  },
  {
   "cell_type": "code",
   "execution_count": 18,
   "metadata": {},
   "outputs": [],
   "source": [
    "# pickle files\n",
    "\n",
    "import pickle\n",
    "\n",
    "for i, sdf in enumerate(splitted):\n",
    "    with open(\"pickled_wiki_entries_%d.p\" %i, 'wb') as f:\n",
    "        pickle.dump(sdf, f)"
   ]
  },
  {
   "cell_type": "raw",
   "metadata": {},
   "source": [
    "s2['text'].head().tolist()"
   ]
  },
  {
   "cell_type": "code",
   "execution_count": 2,
   "metadata": {},
   "outputs": [],
   "source": [
    "import pickle\n",
    "\n",
    "\n",
    "with open (\"/home/csrp/csrp/code/corpus/backup.p\", 'rb') as f:\n",
    "    df = pickle.load(f, encoding='utf-8')"
   ]
  },
  {
   "cell_type": "code",
   "execution_count": 9,
   "metadata": {},
   "outputs": [
    {
     "data": {
      "text/plain": [
       "'車公廟站 （ ； ） 係 香港 一 個 鐵路 車站 ， 喺 港鐵 上面 ， 月台 係 架空 嘅 。 個 站 喺 沙田 大圍 東部 ， 秦石邨 對面 。 車公廟站 起 喺 「 沙 田頭 臨時 房屋 區 」 舊址 ， 所以 落成 之前 曾經 計劃 叫 「 沙田 頭站 」 。 車公廟站 靠近 車公廟 路 ， 係 以 車公廟 而 名 ， 不過 呢個 唔 等於 最近 廟 嘅 站 ， 因為 車公廟站 喺 正 呢個 站 同 大圍站 中間 ， 反而 大圍站 更 近 車公廟 。 車公廟站 喺 車公廟 路邊 ， 分 兩 層 。 站 大堂 喺 地面 ， 月台 起響 大堂 上面 。 站 有 2 個 月 台 ， 採用 側式 月台 排 ， 月台 南面 有 空位 畀 車卡 加 到 八 個 。 大堂 同 月 台層 之間 ， 有 升降機 同 電梯 ， 方便 乘客 。 車公廟站 設有 4 個 出口 ， 當中 出口 分布 喺 車站 大堂 。 車公廟站 喺 馬鞍山 綫通 車 （ 2004 年 12 月 21 號 ） 同日 正式 啟用 ， 原本 建議 嘅 站名 係 沙田 頭站 。 由於 來往 東鐵 綫 要 轉車 同埋 此 站 對外 嘅 車費 比 東鐵 綫 對外 貴 ， 有 啲 往返 大埔區 或者 北區 去 呢個 站 週邊 設施 嘅 人 ， 會 選擇 行 20 分鐘 去 沙田站 或者 大圍站 搭 東鐵 綫 往 大埔區 或 北區 。'"
      ]
     },
     "execution_count": 9,
     "metadata": {},
     "output_type": "execute_result"
    }
   ],
   "source": [
    "df['tokens'].iloc[95]"
   ]
  },
  {
   "cell_type": "code",
   "execution_count": null,
   "metadata": {},
   "outputs": [],
   "source": []
  }
 ],
 "metadata": {
  "kernelspec": {
   "display_name": "Python 3",
   "language": "python",
   "name": "python3"
  },
  "language_info": {
   "codemirror_mode": {
    "name": "ipython",
    "version": 3
   },
   "file_extension": ".py",
   "mimetype": "text/x-python",
   "name": "python",
   "nbconvert_exporter": "python",
   "pygments_lexer": "ipython3",
   "version": "3.5.2"
  }
 },
 "nbformat": 4,
 "nbformat_minor": 2
}
