{
 "cells": [
  {
   "cell_type": "markdown",
   "metadata": {},
   "source": [
    "# 20th Century HKCC-Corpus"
   ]
  },
  {
   "cell_type": "code",
   "execution_count": 1,
   "metadata": {},
   "outputs": [],
   "source": [
    "import pandas as pd\n",
    "import numpy as np\n",
    "import re, glob"
   ]
  },
  {
   "cell_type": "code",
   "execution_count": 2,
   "metadata": {},
   "outputs": [],
   "source": [
    "# path of files containing 20th Century HKCC Corpus\n",
    "PATH = 'corpus/hkcc-corpus/'"
   ]
  },
  {
   "cell_type": "code",
   "execution_count": 3,
   "metadata": {},
   "outputs": [],
   "source": [
    "corpus_files = glob.glob(PATH + '*.csv')"
   ]
  },
  {
   "cell_type": "code",
   "execution_count": 4,
   "metadata": {
    "scrolled": true
   },
   "outputs": [],
   "source": [
    "dataframes = []\n",
    "\n",
    "for c in corpus_files:\n",
    "    dataframes.append(pd.read_csv(c, index_col=None, usecols=[1, 2, 3]) )\n",
    "\n",
    "df = pd.concat(dataframes, axis=0)"
   ]
  },
  {
   "cell_type": "markdown",
   "metadata": {},
   "source": [
    "## clean/preprocessing"
   ]
  },
  {
   "cell_type": "code",
   "execution_count": 5,
   "metadata": {},
   "outputs": [],
   "source": [
    "# Remove spaces from columns and column Type\n",
    "df.columns = [c.strip() for c in df.columns.tolist()]\n",
    "df.drop(labels='Type', axis=1, inplace=True)"
   ]
  },
  {
   "cell_type": "code",
   "execution_count": 6,
   "metadata": {},
   "outputs": [
    {
     "data": {
      "text/html": [
       "<div>\n",
       "<style scoped>\n",
       "    .dataframe tbody tr th:only-of-type {\n",
       "        vertical-align: middle;\n",
       "    }\n",
       "\n",
       "    .dataframe tbody tr th {\n",
       "        vertical-align: top;\n",
       "    }\n",
       "\n",
       "    .dataframe thead th {\n",
       "        text-align: right;\n",
       "    }\n",
       "</style>\n",
       "<table border=\"1\" class=\"dataframe\">\n",
       "  <thead>\n",
       "    <tr style=\"text-align: right;\">\n",
       "      <th></th>\n",
       "      <th>Artist</th>\n",
       "      <th>Text</th>\n",
       "    </tr>\n",
       "  </thead>\n",
       "  <tbody>\n",
       "    <tr>\n",
       "      <th>0</th>\n",
       "      <td>文蘭 (F/女)</td>\n",
       "      <td>大衛 呀 ？</td>\n",
       "    </tr>\n",
       "    <tr>\n",
       "      <th>1</th>\n",
       "      <td>呂奇 (M/男)</td>\n",
       "      <td>小姐 ， 請問 你 人事科 嘅 馬 部長 喺道 嘛 ？</td>\n",
       "    </tr>\n",
       "    <tr>\n",
       "      <th>2</th>\n",
       "      <td>女 (F/女)</td>\n",
       "      <td>哦 ！ 喺道 ！</td>\n",
       "    </tr>\n",
       "    <tr>\n",
       "      <th>3</th>\n",
       "      <td>女 (F/女)</td>\n",
       "      <td>馬 部長 ！</td>\n",
       "    </tr>\n",
       "    <tr>\n",
       "      <th>4</th>\n",
       "      <td>男 (M/男)</td>\n",
       "      <td>咩 事 呀 ？</td>\n",
       "    </tr>\n",
       "  </tbody>\n",
       "</table>\n",
       "</div>"
      ],
      "text/plain": [
       "      Artist                          Text\n",
       "0   文蘭 (F/女)                        大衛 呀 ？\n",
       "1   呂奇 (M/男)   小姐 ， 請問 你 人事科 嘅 馬 部長 喺道 嘛 ？\n",
       "2    女 (F/女)                      哦 ！ 喺道 ！\n",
       "3    女 (F/女)                        馬 部長 ！\n",
       "4    男 (M/男)                       咩 事 呀 ？"
      ]
     },
     "execution_count": 6,
     "metadata": {},
     "output_type": "execute_result"
    }
   ],
   "source": [
    "df.head()"
   ]
  },
  {
   "cell_type": "code",
   "execution_count": 7,
   "metadata": {},
   "outputs": [],
   "source": [
    "def parseTranscriptLine(text):\n",
    "    text = re.sub(r'！|…|？|。|～|，', r'', text,\n",
    "        count=0, flags=re.DOTALL|re.MULTILINE)\n",
    "    text = re.split(r' ', text.strip(), maxsplit=0, flags=re.DOTALL|re.MULTILINE)\n",
    "#     return np.array(list(filter(None, text)))\n",
    "    return list(list(filter(None, text)))"
   ]
  },
  {
   "cell_type": "code",
   "execution_count": 8,
   "metadata": {},
   "outputs": [],
   "source": [
    "# import pickle\n",
    "\n",
    "# with open(\"midcenturycanmoviecorpus_tokens.p\", 'wb') as f:\n",
    "#     pickle.dump(df['Text'].apply(parseTranscriptLine).tolist(), f)"
   ]
  },
  {
   "cell_type": "code",
   "execution_count": null,
   "metadata": {},
   "outputs": [],
   "source": [
    "# put all stripped words in string array\n",
    "str_array = np.concatenate(df['Text'].apply(parseTranscriptLine).values )\n",
    "hkcc_corpus_df = pd.DataFrame(str_array)\n",
    "hkcc_corpus_df.columns = ['word']\n",
    "\n",
    "# hkcc_corpus_df"
   ]
  },
  {
   "cell_type": "code",
   "execution_count": null,
   "metadata": {},
   "outputs": [],
   "source": [
    "hkcc_corpus_df = hkcc_corpus_df.groupby(\n",
    "    ['word'], sort=False).size().reset_index(name='count')\n",
    "# hkcc_corpus_df"
   ]
  },
  {
   "cell_type": "raw",
   "metadata": {},
   "source": [
    "def parseName(name):\n",
    "    return re.sub(r' \\(.+', '', name, count=0, flags=re.DOTALL|re.MULTILINE)"
   ]
  },
  {
   "cell_type": "raw",
   "metadata": {},
   "source": [
    "# create a dataframe of actor/actress names ???\n",
    "df_actor = pd.DataFrame(df['Artist'].unique() )\n",
    "df_actor.columns = ['name']\n",
    "df_actor['name'] = df_actor['name'].apply(parseName)\n",
    "\n",
    "# remove entries containing actor/actress names only\n",
    "df_actor = df_actor[~df_actor.name.str.contains('男|女|眾|不明')].copy()\n",
    "df_actor['counts'] = 1\n",
    "\n",
    "# df_actor"
   ]
  },
  {
   "cell_type": "markdown",
   "metadata": {},
   "source": [
    "## output df to csv"
   ]
  },
  {
   "cell_type": "code",
   "execution_count": null,
   "metadata": {},
   "outputs": [],
   "source": [
    "hkcc_corpus_df"
   ]
  },
  {
   "cell_type": "code",
   "execution_count": null,
   "metadata": {},
   "outputs": [],
   "source": [
    "hkcc_corpus_df.to_csv(\n",
    "    '../dictionaries/20th_century_cantonese_movie_corpus_dict.txt', \n",
    "    sep=' ', index=False, header=False)"
   ]
  },
  {
   "cell_type": "code",
   "execution_count": null,
   "metadata": {},
   "outputs": [],
   "source": [
    "hkcancor_df = pd.read_csv('../dictionaries/hkcantonesedict.txt', sep=' ', \n",
    "    index_col=False, header=None)"
   ]
  },
  {
   "cell_type": "code",
   "execution_count": null,
   "metadata": {},
   "outputs": [],
   "source": [
    "hkcancor_df.columns = ['word', 'count', 'pos']"
   ]
  },
  {
   "cell_type": "code",
   "execution_count": null,
   "metadata": {},
   "outputs": [],
   "source": [
    "i1 = hkcancor_df.set_index(['word']).index\n",
    "i2 = hkcc_corpus_df.set_index(['word']).index\n",
    "hkcancor_df[i1.isin(i2)]"
   ]
  }
 ],
 "metadata": {
  "kernelspec": {
   "display_name": "Python 3.6.9 64-bit",
   "language": "python",
   "name": "python3"
  },
  "language_info": {
   "codemirror_mode": {
    "name": "ipython",
    "version": 3
   },
   "file_extension": ".py",
   "mimetype": "text/x-python",
   "name": "python",
   "nbconvert_exporter": "python",
   "pygments_lexer": "ipython3",
   "version": "3.6.9"
  },
  "vscode": {
   "interpreter": {
    "hash": "31f2aee4e71d21fbe5cf8b01ff0e069b9275f58929596ceb00d14d90e3e16cd6"
   }
  }
 },
 "nbformat": 4,
 "nbformat_minor": 2
}
